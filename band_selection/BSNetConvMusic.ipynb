{
 "cells": [
  {
   "cell_type": "markdown",
   "metadata": {
    "colab_type": "text",
    "id": "view-in-github"
   },
   "source": [
    "<a href=\"https://colab.research.google.com/github/ucalyptus/BS-Nets-Implementation-Pytorch/blob/master/Pytorch_BSNetConv.ipynb\" target=\"_parent\"><img src=\"https://colab.research.google.com/assets/colab-badge.svg\" alt=\"Open In Colab\"/></a>"
   ]
  },
  {
   "cell_type": "code",
   "execution_count": 1,
   "metadata": {
    "colab": {
     "base_uri": "https://localhost:8080/",
     "height": 173
    },
    "colab_type": "code",
    "id": "wY0-W1WbCRmu",
    "outputId": "682718f9-d090-46fe-ac6b-7ccd585e3f18"
   },
   "outputs": [
    {
     "name": "stdout",
     "output_type": "stream",
     "text": [
      "Requirement already satisfied: kornia in /Users/luisreyes/opt/anaconda3/envs/adlproject/lib/python3.8/site-packages (0.7.0)\n",
      "Requirement already satisfied: torch>=1.9.1 in /Users/luisreyes/opt/anaconda3/envs/adlproject/lib/python3.8/site-packages (from kornia) (2.0.1)\n",
      "Requirement already satisfied: packaging in /Users/luisreyes/opt/anaconda3/envs/adlproject/lib/python3.8/site-packages (from kornia) (23.0)\n",
      "Requirement already satisfied: jinja2 in /Users/luisreyes/opt/anaconda3/envs/adlproject/lib/python3.8/site-packages (from torch>=1.9.1->kornia) (3.1.2)\n",
      "Requirement already satisfied: filelock in /Users/luisreyes/opt/anaconda3/envs/adlproject/lib/python3.8/site-packages (from torch>=1.9.1->kornia) (3.12.0)\n",
      "Requirement already satisfied: networkx in /Users/luisreyes/opt/anaconda3/envs/adlproject/lib/python3.8/site-packages (from torch>=1.9.1->kornia) (2.6.3)\n",
      "Requirement already satisfied: sympy in /Users/luisreyes/opt/anaconda3/envs/adlproject/lib/python3.8/site-packages (from torch>=1.9.1->kornia) (1.12)\n",
      "Requirement already satisfied: typing-extensions in /Users/luisreyes/opt/anaconda3/envs/adlproject/lib/python3.8/site-packages (from torch>=1.9.1->kornia) (4.4.0)\n",
      "Requirement already satisfied: MarkupSafe>=2.0 in /Users/luisreyes/opt/anaconda3/envs/adlproject/lib/python3.8/site-packages (from jinja2->torch>=1.9.1->kornia) (2.1.2)\n",
      "Requirement already satisfied: mpmath>=0.19 in /Users/luisreyes/opt/anaconda3/envs/adlproject/lib/python3.8/site-packages (from sympy->torch>=1.9.1->kornia) (1.3.0)\n"
     ]
    }
   ],
   "source": [
    "!pip install kornia"
   ]
  },
  {
   "cell_type": "code",
   "execution_count": 2,
   "metadata": {
    "colab": {},
    "colab_type": "code",
    "id": "aySwtTTLdACS"
   },
   "outputs": [],
   "source": [
    "import numpy as np\n",
    "import torch\n",
    "import torch.nn as nn\n",
    "import torch.nn.functional as F\n",
    "import sys\n",
    "import os\n",
    "import torch.optim as optim\n",
    "import torchvision\n",
    "from torchvision import datasets, transforms\n",
    "from scipy import io \n",
    "import torch.utils.data\n",
    "import scipy\n",
    "import matplotlib.pyplot as plt\n",
    "from torch.utils.data import Dataset, DataLoader\n",
    "device = torch.device(\"cuda\" if torch.cuda.is_available() else \n",
    "                      (\"mps\" if torch.backends.mps.is_available() else \"cpu\"))\n",
    "\n"
   ]
  },
  {
   "cell_type": "code",
   "execution_count": 3,
   "metadata": {
    "colab": {
     "base_uri": "https://localhost:8080/",
     "height": 513
    },
    "colab_type": "code",
    "id": "O_vZ-V7Cfffp",
    "outputId": "23f393e8-3cce-4f81-ea7f-236fd560b9bb"
   },
   "outputs": [
    {
     "name": "stdout",
     "output_type": "stream",
     "text": [
      "Requirement already satisfied: spectral in /Users/luisreyes/opt/anaconda3/envs/adlproject/lib/python3.8/site-packages (0.23.1)\n",
      "Requirement already satisfied: numpy in /Users/luisreyes/opt/anaconda3/envs/adlproject/lib/python3.8/site-packages (from spectral) (1.24.3)\n"
     ]
    }
   ],
   "source": [
    "!pip install -U spectral"
   ]
  },
  {
   "cell_type": "code",
   "execution_count": 14,
   "metadata": {
    "colab": {
     "base_uri": "https://localhost:8080/",
     "height": 34
    },
    "colab_type": "code",
    "id": "iALoEpq56YRP",
    "outputId": "14efb40f-1dc6-4fab-cd89-32d9198869a0"
   },
   "outputs": [],
   "source": [
    "from src.DETCTCNN.data.music_2d_dataset import MUSIC2DDataset\n",
    "import src.DETCTCNN.data.music_2d_dataset\n",
    "path2d = \"../MUSIC2D_HDF5\"\n",
    "path3d = \"../MUSIC3D_HDF5\"\n",
    "transform = src.DETCTCNN.data.music_2d_dataset.JointTransform2D(crop=(7,7), p_flip=0, color_jitter_params=None, long_mask=True)\n",
    "data_train = MUSIC2DDataset(\n",
    "        path2d=path2d, path3d=path3d,\n",
    "        partition=\"train\", \n",
    "        spectrum=\"fullSpectrum\",\n",
    "        transform=transform, \n",
    "        full_dataset=True, \n",
    ")\n",
    "train_loader = DataLoader(data_train, batch_size=16, shuffle=True)"
   ]
  },
  {
   "cell_type": "code",
   "execution_count": 15,
   "metadata": {
    "colab": {
     "base_uri": "https://localhost:8080/",
     "height": 51
    },
    "colab_type": "code",
    "id": "EyGgFaKF5J51",
    "outputId": "ab64d306-99ce-41de-d74e-6dbafec3f79e"
   },
   "outputs": [
    {
     "name": "stdout",
     "output_type": "stream",
     "text": [
      "torch.Size([128, 7, 7])\n",
      "437\n"
     ]
    }
   ],
   "source": [
    "print(data_train[0][\"image\"].shape)\n",
    "print(data_train.__len__())"
   ]
  },
  {
   "cell_type": "code",
   "execution_count": 29,
   "metadata": {
    "colab": {},
    "colab_type": "code",
    "id": "TJY-1XbQbb64"
   },
   "outputs": [],
   "source": [
    "\n",
    "class BSNET_Conv(nn.Module):\n",
    "\n",
    "    def __init__(self,):\n",
    "      \n",
    "        super(BSNET_Conv, self).__init__()\n",
    "        self.conv1 = nn.Sequential(\n",
    "        \tnn.Conv2d(128,64,(3,3),1,0),\n",
    "        \tnn.ReLU(True))\n",
    "\n",
    "        self.conv1_1 = nn.Sequential(\n",
    "        \tnn.Conv2d(128,128,(3,3),1,0),\n",
    "        \tnn.ReLU(True))\n",
    "        self.conv1_2 = nn.Sequential(\n",
    "        \tnn.Conv2d(128,64,(3,3),1,0),\n",
    "        \tnn.ReLU(True))\n",
    "        \n",
    "        self.deconv1_2 = nn.Sequential(\n",
    "        \tnn.ConvTranspose2d(64,64,(3,3),1,0),\n",
    "        \tnn.ReLU(True))\n",
    "        \n",
    "        self.deconv1_1 = nn.Sequential(\n",
    "        \tnn.ConvTranspose2d(64,128,(3,3),1,0),\n",
    "        \tnn.ReLU(True))\n",
    "\n",
    "        self.conv2_1 = nn.Sequential(\n",
    "        \tnn.Conv2d(128,128,(1,1),1,0),\n",
    "        \tnn.Sigmoid())\n",
    "        \n",
    "\n",
    "        self.fc1 = nn.Sequential(\n",
    "        \tnn.Linear(64,128),\n",
    "        \tnn.ReLU(True))\n",
    "        self.fc2 = nn.Sequential(\n",
    "        \tnn.Linear(128,128),\n",
    "        \tnn.Sigmoid())\n",
    "        self.gp=nn.AvgPool2d(5)\n",
    "    \n",
    "        \n",
    "    def BAM(self,x):\n",
    "        \n",
    "        x = self.conv1(x)\n",
    "        \n",
    "        \n",
    "        x = self.gp(x)\n",
    "        \n",
    "        \n",
    "        x = x.view(-1,64)\n",
    "        \n",
    "        x = self.fc1(x)\n",
    "        \n",
    "        x = self.fc2(x)\n",
    "        \n",
    "        x = x.view(-1,1,1,128)\n",
    "        x = x.permute(0,3,1,2)\n",
    "        \n",
    "        return x\n",
    "\n",
    "    def RecNet(self,x):\n",
    "\n",
    "      x = self.conv1_1(x)\n",
    "      \n",
    "      x = self.conv1_2(x)\n",
    "      \n",
    "      x = self.deconv1_2(x)\n",
    "      \n",
    "      x = self.deconv1_1(x)\n",
    "      \n",
    "      x = self.conv2_1(x)\n",
    "      \n",
    "      return x\n",
    "      \n",
    "      \n",
    "\n",
    "    def forward(self,x):\n",
    "      \n",
    "      BRW = self.BAM(x)\n",
    "      \n",
    "      x = x*BRW\n",
    "      ret = self.RecNet(x)\n",
    "      \n",
    "      return ret\n",
    "\n",
    "\n",
    "       \n",
    "model = BSNET_Conv()"
   ]
  },
  {
   "cell_type": "code",
   "execution_count": 30,
   "metadata": {
    "colab": {
     "base_uri": "https://localhost:8080/",
     "height": 527
    },
    "colab_type": "code",
    "id": "kNopEhPR45TA",
    "outputId": "59c1ad15-5638-4a3b-e670-6ecc63651f24"
   },
   "outputs": [
    {
     "name": "stdout",
     "output_type": "stream",
     "text": [
      "----------------------------------------------------------------\n",
      "        Layer (type)               Output Shape         Param #\n",
      "================================================================\n",
      "            Conv2d-1             [16, 64, 5, 5]          73,792\n",
      "              ReLU-2             [16, 64, 5, 5]               0\n",
      "         AvgPool2d-3             [16, 64, 1, 1]               0\n",
      "            Linear-4                  [16, 128]           8,320\n",
      "              ReLU-5                  [16, 128]               0\n",
      "            Linear-6                  [16, 128]          16,512\n",
      "           Sigmoid-7                  [16, 128]               0\n",
      "            Conv2d-8            [16, 128, 5, 5]         147,584\n",
      "              ReLU-9            [16, 128, 5, 5]               0\n",
      "           Conv2d-10             [16, 64, 3, 3]          73,792\n",
      "             ReLU-11             [16, 64, 3, 3]               0\n",
      "  ConvTranspose2d-12             [16, 64, 5, 5]          36,928\n",
      "             ReLU-13             [16, 64, 5, 5]               0\n",
      "  ConvTranspose2d-14            [16, 128, 7, 7]          73,856\n",
      "             ReLU-15            [16, 128, 7, 7]               0\n",
      "           Conv2d-16            [16, 128, 7, 7]          16,512\n",
      "          Sigmoid-17            [16, 128, 7, 7]               0\n",
      "================================================================\n",
      "Total params: 447,296\n",
      "Trainable params: 447,296\n",
      "Non-trainable params: 0\n",
      "----------------------------------------------------------------\n",
      "Input size (MB): 0.38\n",
      "Forward/backward pass size (MB): 4.84\n",
      "Params size (MB): 1.71\n",
      "Estimated Total Size (MB): 6.93\n",
      "----------------------------------------------------------------\n"
     ]
    }
   ],
   "source": [
    "from torchsummary import summary\n",
    "summary(model,(128,7,7),batch_size=16)\n",
    "model = model.to(device)"
   ]
  },
  {
   "cell_type": "code",
   "execution_count": 31,
   "metadata": {
    "colab": {},
    "colab_type": "code",
    "id": "Y8WRFPqzCpQJ"
   },
   "outputs": [],
   "source": [
    "top = 30\n",
    "optimizer = optim.SGD(model.parameters(), lr=0.1, momentum=0.9)\n",
    "optimizer = torch.optim.Adam(model.parameters(), betas=([0.9, 0.999]), lr = 0.1)"
   ]
  },
  {
   "cell_type": "code",
   "execution_count": null,
   "metadata": {
    "colab": {
     "base_uri": "https://localhost:8080/",
     "height": 1000
    },
    "colab_type": "code",
    "id": "rrUBTJ4S40eD",
    "outputId": "4a86368f-cbb9-4f58-a46d-6d88750a8166",
    "scrolled": false
   },
   "outputs": [
    {
     "name": "stdout",
     "output_type": "stream",
     "text": [
      "Train Epoch: 0 [0/437 (0%)]\tLoss: 0.329884\n",
      "SSIM: 0.3131219446659088\n",
      "PSNR: -75.90756225585938\n",
      "Train Epoch: 0 [224/437 (50%)]\tLoss: 0.236636\n",
      "SSIM: 0.4889342486858368\n",
      "PSNR: -76.6692886352539\n",
      "Top 30 bands with Entropy -> [94, 119, 92, 111, 115, 45, 85, 0, 68, 80, 100, 107, 118, 57, 35, 18, 117, 40, 125, 59, 12, 69, 96, 61, 75, 10, 20, 44, 15, 48]\n",
      "Train Epoch: 1 [0/437 (0%)]\tLoss: 0.263575\n",
      "SSIM: 0.4921184778213501\n",
      "PSNR: -75.99341583251953\n",
      "Train Epoch: 1 [224/437 (50%)]\tLoss: 0.261752\n",
      "SSIM: 0.4865410327911377\n",
      "PSNR: -75.83928680419922\n",
      "Top 30 bands with Entropy -> [127, 126, 33, 34, 35, 36, 37, 38, 39, 40, 41, 42, 43, 44, 45, 46, 47, 48, 49, 50, 51, 52, 53, 54, 55, 56, 57, 58, 59, 60]\n",
      "Train Epoch: 2 [0/437 (0%)]\tLoss: 0.284605\n",
      "SSIM: 0.49597829580307007\n",
      "PSNR: -75.73176574707031\n",
      "Train Epoch: 2 [224/437 (50%)]\tLoss: 0.278592\n",
      "SSIM: 0.4950653612613678\n",
      "PSNR: -75.87653350830078\n"
     ]
    }
   ],
   "source": [
    "import skimage\n",
    "import kornia\n",
    "global bsnlist\n",
    "ssim = kornia.losses.SSIMLoss(5, reduction='none')\n",
    "psnr = kornia.losses.PSNRLoss(2500)\n",
    "from skimage import measure\n",
    "ssim_list = []\n",
    "psnr_list = []\n",
    "l1_list = []\n",
    "channel_weight_list = []\n",
    "def train(epoch):    \n",
    "    model.train()\n",
    "    ENTROPY = torch.zeros(128)\n",
    "\n",
    "    for batch_idx, data in enumerate(train_loader):\n",
    "        data = data[\"image\"].to(device)\n",
    "        optimizer.zero_grad()\n",
    "        output =  model(data)\n",
    "        loss = F.l1_loss(output,data)\n",
    "        loss.backward()\n",
    "        optimizer.step()\n",
    "        D = output.detach().cpu().numpy()\n",
    "        for i in range(0,128):\n",
    "\n",
    "          ENTROPY[i]+=skimage.measure.shannon_entropy(D[:,i,:,:])\n",
    "        \n",
    "        if batch_idx % (0.5*len(train_loader)) == 0:\n",
    "\n",
    "\n",
    "\n",
    "            L1 = loss.item()\n",
    "            print('Train Epoch: {} [{}/{} ({:.0f}%)]\\tLoss: {:.6f}'.format(\n",
    "                epoch, batch_idx * len(data), len(train_loader.dataset),\n",
    "                100. * batch_idx / len(train_loader),L1))\n",
    "            l1_list.append(L1)\n",
    "            ssim_val = torch.mean(ssim(data,output))\n",
    "            print(\"SSIM: {}\".format(ssim_val))\n",
    "            ssim_list.append(ssim_val)\n",
    "            psnr_val = psnr(data,output)\n",
    "            print(\"PSNR: {}\".format(psnr_val))\n",
    "            psnr_list.append(psnr_val)\n",
    "        \n",
    "        \n",
    "    ENTROPY = np.array(ENTROPY)\n",
    "    bsnlist = np.asarray(ENTROPY.argsort()[-top:][::-1])\n",
    "    print('Top {} bands with Entropy ->'.format(top),list(bsnlist))\n",
    "    \n",
    "    \n",
    "\n",
    "\n",
    "for epoch in range(0, 200):\n",
    "    train(epoch)\n",
    "    "
   ]
  },
  {
   "cell_type": "code",
   "execution_count": null,
   "metadata": {
    "colab": {},
    "colab_type": "code",
    "id": "nSSV4CP6HhSU"
   },
   "outputs": [],
   "source": [
    "bsnlist = [69, 66, 93, 86, 78, 77, 73, 70, 52, 108]\n",
    "#bsnlist = [103, 58, 74, 122, 39, 91, 38, 67, 18, 63, 50, 42, 114, 15, 16, 89, 107, 40, 96, 29, 47, 92, 13, 124, 46, 44, 72, 8, 31, 59]"
   ]
  },
  {
   "cell_type": "code",
   "execution_count": null,
   "metadata": {
    "colab": {
     "base_uri": "https://localhost:8080/",
     "height": 68
    },
    "colab_type": "code",
    "id": "gVz0NjFVC-zQ",
    "outputId": "d9647d4b-e09b-41aa-b4c1-217b5eff697a"
   },
   "outputs": [],
   "source": [
    "x,xx,xxx = psnr_list,ssim_list,l1_list\n",
    "print(len(x)),print(len(xx)),print(len(xxx))\n",
    "import matplotlib\n",
    "import matplotlib.pyplot as plt\n",
    "%matplotlib inline"
   ]
  },
  {
   "cell_type": "code",
   "execution_count": null,
   "metadata": {},
   "outputs": [],
   "source": [
    "print(x[0])"
   ]
  },
  {
   "cell_type": "code",
   "execution_count": null,
   "metadata": {
    "colab": {
     "base_uri": "https://localhost:8080/",
     "height": 641
    },
    "colab_type": "code",
    "id": "JYtFsHDPDav6",
    "outputId": "64a22623-56bd-4b6b-a923-2dc4170e2e4f"
   },
   "outputs": [],
   "source": [
    "plt.figure(figsize=(20,10))\n",
    "plt.xlabel('Epoch',fontsize=50)\n",
    "plt.ylabel('PSNR',fontsize=50)\n",
    "plt.xticks(fontsize=40)\n",
    "plt.yticks(np.arange(0,100 , 10.0),fontsize=40)\n",
    "plt.ylim(10,100)\n",
    "plt.plot(x,linewidth=5.0)\n",
    "plt.savefig('PSNR-IN.pdf')\n",
    "plt.show()\n",
    "\n"
   ]
  },
  {
   "cell_type": "code",
   "execution_count": null,
   "metadata": {
    "colab": {
     "base_uri": "https://localhost:8080/",
     "height": 650
    },
    "colab_type": "code",
    "id": "zTN88wHTDeP6",
    "outputId": "1e31015c-3a8e-40ae-ab16-f6ab2b5b2795"
   },
   "outputs": [],
   "source": [
    "plt.figure(figsize=(20,10))\n",
    "plt.xlabel('Epoch',fontsize=50)\n",
    "plt.ylabel('SSIM',fontsize=50)\n",
    "plt.xticks(fontsize=40)\n",
    "plt.yticks(fontsize=40)\n",
    "plt.plot(xx,linewidth=5.0)\n",
    "plt.savefig('SSIM-IN.pdf')\n",
    "\n",
    "plt.show()\n"
   ]
  },
  {
   "cell_type": "code",
   "execution_count": null,
   "metadata": {
    "colab": {
     "base_uri": "https://localhost:8080/",
     "height": 637
    },
    "colab_type": "code",
    "id": "brWW-10UDhru",
    "outputId": "22ac3bfe-cf3a-4021-9376-170a17231b0c"
   },
   "outputs": [],
   "source": [
    "plt.figure(figsize=(20,10))\n",
    "plt.xlabel('Epoch',fontsize=50)\n",
    "plt.ylabel('L1 Reconstruction loss',fontsize=50)\n",
    "plt.xticks(fontsize=40)\n",
    "plt.yticks(fontsize=40)\n",
    "plt.plot(xxx,linewidth=5.0)\n",
    "plt.savefig('L1-IN.pdf')\n",
    "plt.show()\n",
    "\n"
   ]
  },
  {
   "cell_type": "code",
   "execution_count": null,
   "metadata": {
    "colab": {},
    "colab_type": "code",
    "id": "oxJCSLj2W-mq"
   },
   "outputs": [],
   "source": [
    "from scipy.stats import entropy"
   ]
  },
  {
   "cell_type": "code",
   "execution_count": null,
   "metadata": {
    "colab": {},
    "colab_type": "code",
    "id": "0wVzMictDuad"
   },
   "outputs": [],
   "source": [
    "def MeanSpectralDivergence(band_subset):\n",
    "\n",
    "  n_row, n_column, n_band = band_subset.shape\n",
    "  N = n_row * n_column\n",
    "  hist = []\n",
    "  for i in range(n_band):\n",
    "    hist_, _ = np.histogram(band_subset[:, :, i], 256)\n",
    "    hist.append(hist_ / N)\n",
    "  hist = np.asarray(hist)\n",
    "  hist[np.nonzero(hist <= 0)] = 1e-20  \n",
    "  info_div = 0  \n",
    "  for b_i in range(n_band):\n",
    "    for b_j in range(n_band):\n",
    "      band_i = hist[b_i].reshape(-1)/np.sum(hist[b_i])\n",
    "      band_j = hist[b_j].reshape(-1)/np.sum(hist[b_j])\n",
    "      entr_ij = entropy(band_i, band_j)\n",
    "      entr_ji = entropy(band_j, band_i)\n",
    "      entr_sum = entr_ij + entr_ji\n",
    "      info_div += entr_sum\n",
    "  msd = info_div * 2 / (n_band * (n_band - 1))\n",
    "  return msd\n"
   ]
  },
  {
   "cell_type": "code",
   "execution_count": null,
   "metadata": {
    "colab": {},
    "colab_type": "code",
    "id": "ZeRRCfAzDwUY"
   },
   "outputs": [],
   "source": [
    "def MeanSpectralAngle(band_subset):\n",
    "    \"\"\"\n",
    "    Spectral Angle (SA) is defined as the angle between two bands.\n",
    "    We use Mean SA (MSA) to quantify the redundancy among a band set.\n",
    "    i-th band B_i, and j-th band B_j,\n",
    "    SA = arccos [B_i^T * B_j / ||B_i|| * ||B_j||]\n",
    "    MSA = 2/n*(n-1) * sum(SA_ij)\n",
    "    Ref:\n",
    "    [1]\tGONG MAOGUO, ZHANG MINGYANG, YUAN YUAN. Unsupervised Band Selection Based on Evolutionary Multiobjective\n",
    "    Optimization for Hyperspectral Images [J]. IEEE Transactions on Geoscience and Remote Sensing, 2016, 54(1): 544-57.\n",
    "    :param band_subset: with shape (n_row, n_clm, n_band)\n",
    "    :return:\n",
    "    \"\"\"\n",
    "    n_row, n_column, n_band = band_subset.shape\n",
    "    spectral_angle = 0\n",
    "    for i in range(n_band):\n",
    "        for j in range(n_band):\n",
    "            band_i = band_subset[i].reshape(-1)\n",
    "            band_j = band_subset[j].reshape(-1)\n",
    "            lower = np.sum(band_i ** 2) ** 0.5 * np.sum(band_j ** 2) ** 0.5\n",
    "            higher = np.dot(band_i, band_j)\n",
    "            if higher / lower > 1.:\n",
    "                angle_ij = np.arccos(1. - 1e-16)\n",
    "                # print('1-higher-lower', higher - lower)\n",
    "            # elif higher / lower < -1.:\n",
    "            #     angle_ij = np.arccos(1e-8 - 1.)\n",
    "                # print('2-higher-lower', higher - lower)\n",
    "            else:\n",
    "                angle_ij = np.arccos(higher / lower)\n",
    "            spectral_angle += angle_ij\n",
    "    msa = spectral_angle * 2 / (n_band * (n_band - 1))\n",
    "    return msa"
   ]
  },
  {
   "cell_type": "code",
   "execution_count": null,
   "metadata": {
    "colab": {},
    "colab_type": "code",
    "id": "075nd2hQDzVY"
   },
   "outputs": [],
   "source": [
    "import skimage\n",
    "from skimage import measure\n",
    "def sumentr(band_subset,X):\n",
    "  nbands = len(band_subset)\n",
    "  ENTROPY=np.ones(nbands)\n",
    "  for i in range(0,len(band_subset)):\n",
    "    ENTROPY[i]+=skimage.measure.shannon_entropy(X[:,:,band_subset[i]])\n",
    "  return np.sum(ENTROPY)\n",
    "\n",
    " "
   ]
  },
  {
   "cell_type": "code",
   "execution_count": null,
   "metadata": {
    "colab": {},
    "colab_type": "code",
    "id": "xgMa8W9nD3Ch"
   },
   "outputs": [],
   "source": [
    "def MSA(bsnlist):\n",
    "  X, _ = loadData()\n",
    "  print('[',end=\" \")\n",
    "  for a in range(2,len(bsnlist)):\n",
    "    band_subset_list = []\n",
    "    for i in bsnlist[:a]:\n",
    "      band_subset_list.append(X[:,:,i])     \n",
    "    band_subset = np.array(band_subset_list)\n",
    "    band_subset = np.stack(band_subset,axis =2)\n",
    "    print(MeanSpectralAngle(band_subset),end=\" \")\n",
    "    if a!= len(bsnlist)-1:\n",
    "      print(\",\",end=\" \")\n",
    "  print(']')\n",
    "    \n",
    "\n",
    "\n",
    "\n"
   ]
  },
  {
   "cell_type": "code",
   "execution_count": null,
   "metadata": {
    "colab": {},
    "colab_type": "code",
    "id": "vLhGFydrD7Zb"
   },
   "outputs": [],
   "source": [
    "def MSD(bsnlist):\n",
    "  X, _ = loadData()\n",
    "  print('[',end=\" \")\n",
    "  for a in range(2,len(bsnlist)):\n",
    "    band_subset_list = []\n",
    "    for i in bsnlist[:a]:\n",
    "      band_subset_list.append(X[:,:,i])     \n",
    "    band_subset = np.array(band_subset_list)\n",
    "    band_subset = np.stack(band_subset,axis =2)\n",
    "    print(MeanSpectralDivergence(band_subset),end=\" \")\n",
    "    if a!= len(bsnlist)-1:\n",
    "      print(\",\",end=\" \")\n",
    "  print(']')\n",
    "    \n",
    "\n"
   ]
  },
  {
   "cell_type": "code",
   "execution_count": null,
   "metadata": {
    "colab": {},
    "colab_type": "code",
    "id": "P5S32wY-D-zu"
   },
   "outputs": [],
   "source": [
    "def EntropySum(bsnlist):\n",
    "  X, _ = loadData()\n",
    "  print('[',end=\" \")\n",
    "  for a in range(2,len(bsnlist)):\n",
    "    band_subset_list = []\n",
    "    for i in bsnlist[:a]:\n",
    "      band_subset_list.append(X[:,:,i])     \n",
    "    band_subset = np.array(band_subset_list)\n",
    "    band_subset = np.stack(band_subset,axis =2)\n",
    "    print(sumentr(bsnlist[:a],X),end=\" \")\n",
    "    if a!= len(bsnlist)-1:\n",
    "      print(\",\",end=\" \")\n",
    "  print(']')\n",
    "    \n"
   ]
  },
  {
   "cell_type": "code",
   "execution_count": null,
   "metadata": {
    "colab": {
     "base_uri": "https://localhost:8080/",
     "height": 88
    },
    "colab_type": "code",
    "id": "q9Lw7e2RD_8z",
    "outputId": "655ec35c-d98b-4e00-8e92-85fa99683b19"
   },
   "outputs": [],
   "source": [
    "MSA(bsnlist)\n",
    "MSD(bsnlist)\n",
    "EntropySum(bsnlist)"
   ]
  },
  {
   "cell_type": "code",
   "execution_count": null,
   "metadata": {
    "colab": {
     "base_uri": "https://localhost:8080/",
     "height": 742
    },
    "colab_type": "code",
    "id": "oKpCv411H2uU",
    "outputId": "a489430e-9c03-458c-8264-440b5304e879"
   },
   "outputs": [],
   "source": [
    "dabs = [ 33.12881252113703 , 27.699269748852547 , 31.189050523240567 , 25.407158521806743 , 21.23842365661258 , 21.4600299169822 , 20.86248085946583 , 20.17228040657472 , 20.53299041484558 , 21.1335634998955 , 19.59117061832842 , 20.946230004039375 , 22.843494279707382 , 21.596483466175062 , 21.633130554147392 , 22.832050045391185 , 23.112561570936894 , 23.938250673675114 , 24.27697303727743 , 24.67049003424132 , 24.818116958133697 , 24.450204537801287 , 25.019421764795172 ]\n",
    "bsnetconv = [ 24.926582298710684 , 21.330938461786815 , 23.04076040826106 , 21.645181998356264 , 18.691557180047244 , 20.7226257192415 , 20.180950404677475 , 18.92119239091796 , 18.14126793229048 , 18.054941145300337 , 19.2913419518319 , 21.458442690479096 , 22.376986846120094 , 26.539316782854403 , 26.364677531292276 , 26.004356791026886 , 26.06563007931373 , 27.562615680165703 , 26.816233958923476 , 26.75423730463073 , 26.76546728344344 , 26.651876628889074 , 26.170407693767313 ]\n",
    "pca = [ 64.6659495569616 , 44.206964175291155 , 56.974405048963185 , 47.303760042785385 , 39.8940534876976 , 34.768743086455515 , 30.563590015282664 , 27.347606401064958 , 25.73579551531729 , 23.562059922897653 , 24.332531206971105 , 22.65318676880641 , 21.20680313199034 , 19.950365482269632 , 18.7957381872366 , 17.785780071254095 , 16.84197341100759 , 16.71704973304585 , 15.959359012341034 , 16.69296720295007 , 16.303398054778945 , 15.775575036839665 , 15.247189808858215 ]\n",
    "spabs = [ 51.546751478947485 , 41.56190968855882 , 34.1507585379382 , 32.18755647433454 , 31.393008047463585 , 31.02527459658134 , 30.212480943960397 , 33.42180148091237 , 32.627589457381625 , 30.811290451152864 , 31.07497311582388 , 29.193101794721112 , 28.174085856682574 , 27.110556610241026 , 26.16396012024104 , 27.642474793195948 , 26.97927639524588 , 26.802185442574 , 26.733570979934218 , 25.614498829087168 , 24.57496106936372 , 24.260774948635653 , 24.535411090068447 ]\n",
    "snmf = [ 42.687271482734026 , 69.98650272134581 , 65.56190884814379 , 64.78830503377719 , 60.283392581094056 , 57.29725635316855 , 61.48424023193987 , 65.9111624844873 , 69.81263992889625 , 66.0216268025207 , 63.44659867282022 , 59.12927876180595 , 55.89468878602123 , 54.131703617998376 , 56.680276749080825 , 59.53217131059314 , 57.16351130033321 , 54.9461367723193 , 55.23628180002861 , 54.62510055278423 , 53.74485500301176 , 52.97448803455957 , 51.9084356071723 ]\n",
    "issc = [ 18.282704191681795 , 35.29174781838125 , 33.52621667208111 , 34.7570094214297 , 34.693446545983406 , 33.8470987598166 , 42.36183874938314 , 38.34479910743488 , 38.34974051412382 , 35.28287700260462 , 32.65494379097696 , 32.312139823186655 , 30.307662525527835 , 29.98966839606608 , 29.269512799967384 , 29.912423244699333 , 29.038917745855983 , 28.929037072912795 , 28.672306590798843 , 28.505889476998565 , 28.182865736586837 , 28.759689061354372 , 28.95934175252772 ]\n",
    "new = [ 0.3815454878000646 , 6.781090755133797 , 9.950440828878444 , 11.237053937027174 , 27.088203156192495 , 28.32426713263673 , 31.61098768365176 , 29.18215151414016 , 30.623415605281778 , 28.31521833089382 , 27.449306705475106 , 26.808790797203535 , 26.64422017203365 , 26.15949242450031 , 24.537110949551423 , 26.60549266437586 , 25.726471570464867 , 25.336850074623072 , 24.637817130631845 , 23.95399234128613 , 23.29746143739684 , 22.647506727415077 , 22.878749722275444 ]\n",
    "NSBands = list((i for i in range(2,25)))\n",
    "import matplotlib\n",
    "import matplotlib.pyplot as plt\n",
    "%matplotlib inline\n",
    "methods = [dabs,bsnetconv,pca,spabs,snmf,new]\n",
    "for i in methods:  print(len(i))\n",
    "markerstylelist = [\"8\",\"1\",\"2\",\"4\",\"*\",\"3\",\"5\"]\n",
    "scatar = []\n",
    "f = plt.figure(num=None, figsize=(12, 8), dpi=80, facecolor='w', edgecolor='k')\n",
    "for method in methods:\n",
    "  PLOT = plt.plot(NSBands,method,markersize=30)\n",
    "  SCATTER = plt.scatter(NSBands,method,s=100)\n",
    "  scatar.append(SCATTER)\n",
    "plt.xlabel('Number of Selected Bands',fontsize=40)\n",
    "plt.ylabel('MSD',fontsize=40)\n",
    "plt.xticks(fontsize=30)\n",
    "plt.yticks(fontsize=30)\n",
    "plt.ylim(1,80)\n",
    "plt.xlim(1,25)\n",
    "plt.legend(scatar,['DARecNet-BS','BSNet-Conv','PCA','SpaBS','SNMF','New'],loc='best',fontsize='xx-large',shadow=True,prop={'size': 26},bbox_to_anchor=(0.5, 0.5, 0.5, 0.5))\n",
    "plt.show()\n",
    "f.savefig(\"MSD-IN.pdf\", bbox_inches='tight')"
   ]
  },
  {
   "cell_type": "code",
   "execution_count": null,
   "metadata": {
    "colab": {},
    "colab_type": "code",
    "id": "XOMA2sjbYBmb"
   },
   "outputs": [],
   "source": []
  }
 ],
 "metadata": {
  "accelerator": "GPU",
  "colab": {
   "include_colab_link": true,
   "machine_shape": "hm",
   "name": "Pytorch BSNetConv.ipynb",
   "provenance": []
  },
  "kernelspec": {
   "display_name": "Python 3 (ipykernel)",
   "language": "python",
   "name": "python3"
  },
  "language_info": {
   "codemirror_mode": {
    "name": "ipython",
    "version": 3
   },
   "file_extension": ".py",
   "mimetype": "text/x-python",
   "name": "python",
   "nbconvert_exporter": "python",
   "pygments_lexer": "ipython3",
   "version": "3.8.12"
  }
 },
 "nbformat": 4,
 "nbformat_minor": 1
}
